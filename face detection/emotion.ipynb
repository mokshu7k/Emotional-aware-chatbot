{
 "cells": [
  {
   "cell_type": "code",
   "execution_count": 2,
   "id": "03df7e22",
   "metadata": {},
   "outputs": [],
   "source": [
    "#!pip install kaggle "
   ]
  },
  {
   "cell_type": "code",
   "execution_count": 1,
   "id": "2c59479a",
   "metadata": {},
   "outputs": [],
   "source": [
    "import cv2"
   ]
  },
  {
   "cell_type": "code",
   "execution_count": 2,
   "id": "2b3b0e1a",
   "metadata": {},
   "outputs": [],
   "source": [
    "#face detection\n",
    "cam=cv2.VideoCapture(0)\n",
    "face_cascade= cv2.CascadeClassifier(cv2.data.haarcascades+ 'haarcascade_frontalface_default.xml')\n",
    "while True:\n",
    " ret,frame= cam.read()\n",
    " if not ret:\n",
    "   print(\"failed to grab\")\n",
    "   break\n",
    " gray= cv2.cvtColor(frame,cv2.COLOR_BGR2GRAY)\n",
    " faces= face_cascade.detectMultiScale(gray,scaleFactor=1.3,minNeighbors=5)\n",
    " for(x,y,w,h) in faces:\n",
    "    cv2.rectangle(frame,(x,y),(x+w, y+h),(255,0,0),2)\n",
    "    cv2.putText(frame,\"face detected\",(x,y-10),cv2.FONT_HERSHEY_SIMPLEX,0.9,(0,255,0),2,cv2.LINE_AA)\n",
    "\n",
    " cv2.imshow('camera',frame)\n",
    " \n",
    " if cv2.waitKey(1) & 0xff == ord('q'):\n",
    "     break\n",
    " \n",
    "cam.release()\n",
    "cv2.destroyAllWindows()"
   ]
  },
  {
   "cell_type": "code",
   "execution_count": null,
   "id": "184fadce",
   "metadata": {},
   "outputs": [],
   "source": []
  }
 ],
 "metadata": {
  "kernelspec": {
   "display_name": "vedika",
   "language": "python",
   "name": "python3"
  },
  "language_info": {
   "codemirror_mode": {
    "name": "ipython",
    "version": 3
   },
   "file_extension": ".py",
   "mimetype": "text/x-python",
   "name": "python",
   "nbconvert_exporter": "python",
   "pygments_lexer": "ipython3",
   "version": "3.11.13"
  }
 },
 "nbformat": 4,
 "nbformat_minor": 5
}
